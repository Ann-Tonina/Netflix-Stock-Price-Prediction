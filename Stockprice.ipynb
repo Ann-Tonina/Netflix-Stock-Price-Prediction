{
 "cells": [
  {
   "cell_type": "markdown",
   "metadata": {},
   "source": [
    "# NETFLIX STOCK PRICE PPREDICTION USING LSTM AND ANOTHER MODEL OF CHOICE"
   ]
  },
  {
   "cell_type": "markdown",
   "metadata": {},
   "source": [
    "## PROBLEM STATEMENT\n",
    "\n",
    "Accurately predicting Netflix’s future stock prices using historical data is challenging due to high market volatility and the influence of external business factors not captured in stock price alone. This project aims to develop and compare predictive models specifically LSTM (a deep learning model) and a traditional model like ARIMA or XGBoost to forecast Netflix’s stock closing price, evaluate their accuracy, and explore how incorporating external features (if available) can improve prediction reliability."
   ]
  },
  {
   "cell_type": "markdown",
   "metadata": {},
   "source": [
    "## OBJECTIVES\n",
    "\n",
    "**Develop and Prediction Models**:\n",
    "\n",
    "Build a a model using LSTM model to captures temporal dependencies in stock prices and ARIMA or XGBoost for comparision with a traditional statistical or machine learning model\n",
    "\n",
    "**Evaluate Model Performance**:\n",
    "\n",
    "Assess the model's accuracy and performance using appropriate evaluation metrics.\n",
    "\n",
    "**Understand Key Features**:\n",
    "\n",
    "Identify and analyze the key features that significantly impact Netflix prices.\n",
    "\n",
    "**Improve Decision Making**:\n",
    "\n",
    "Provide stakeholders with a reliable tool to estimate Netflix prices, enhancing their decision-making process."
   ]
  },
  {
   "cell_type": "markdown",
   "metadata": {},
   "source": [
    "## DATASET DESCRIPTION\n",
    "\n",
    "Netflix Inc. (NFLX) Stock Price Data (2002-2025), containing: \n",
    "\n",
    "• Date \n",
    "\n",
    "• Open, High, Low, Close prices \n",
    "\n",
    "• Adjusted Close \n",
    "\n",
    "• Volume"
   ]
  },
  {
   "cell_type": "markdown",
   "metadata": {},
   "source": [
    "## METHODOLOGY\n",
    "\n",
    "**1. Data Preprocessing**\n",
    "\n",
    "• Load and explore the dataset. \n",
    "\n",
    "• Handle missing values and perform data cleaning. \n",
    "\n",
    "• Perform feature scaling and normalization where necessary. \n",
    "\n",
    "**2. Feature Engineering** \n",
    "\n",
    "• Create new relevant features from the existing dataset. \n",
    "\n",
    "• Utilize lagged variables for time series forecasting. \n",
    "\n",
    "• Implement rolling statistics such as moving averages. \n",
    "\n",
    "**3. Hybrid Modeling Approach** \n",
    "\n",
    "• Develop an LSTM model to capture temporal dependencies in stock prices. \n",
    "\n",
    "• Additionally, students must implement another model (e.g., XGBoost, ARIMA, Random \n",
    "Forest) alongside LSTM for comparison. \n",
    "\n",
    "• Combine the models effectively for improved prediction accuracy. \n",
    "\n",
    "**4. Hyperparameter Optimization**\n",
    "\n",
    "• Optmize model parameters. \n",
    "\n",
    "• Tune hyperparameters for both LSTM and the additional chosen model to improve \n",
    "performance. \n",
    "\n",
    "**5. Model Interpretability and Evaluation**\n",
    "\n",
    "• Utilize SHAP values to interpret model decisions. \n",
    "\n",
    "• Evaluate model performance using metrics such as RMSE, MAE, and R-squared. \n",
    "\n",
    "• Compare the results of the hybrid model against standalone models. "
   ]
  },
  {
   "cell_type": "markdown",
   "metadata": {},
   "source": [
    "# **PART 1: DATA PREPROCESSING**"
   ]
  },
  {
   "cell_type": "code",
   "execution_count": 139,
   "metadata": {},
   "outputs": [],
   "source": [
    "#Import necessary libraries\n",
    "import numpy as np\n",
    "import pandas as pd\n",
    "import matplotlib.pyplot as plt\n",
    "import seaborn as sns\n",
    "from sklearn.preprocessing import MinMaxScaler,StandardScaler\n",
    "import warnings\n",
    "warnings.filterwarnings('ignore')\n"
   ]
  },
  {
   "cell_type": "markdown",
   "metadata": {},
   "source": [
    "# Loading and explore the dataset."
   ]
  },
  {
   "cell_type": "code",
   "execution_count": 140,
   "metadata": {},
   "outputs": [],
   "source": [
    "# Loading the Netflix Stock Prices dataset\n",
    "df = pd.read_csv('Netflix Inc. (NFLX) Stock Price 2002-2025.csv')"
   ]
  },
  {
   "cell_type": "code",
   "execution_count": 141,
   "metadata": {},
   "outputs": [
    {
     "name": "stdout",
     "output_type": "stream",
     "text": [
      "<class 'pandas.core.frame.DataFrame'>\n",
      "RangeIndex: 5729 entries, 0 to 5728\n",
      "Data columns (total 7 columns):\n",
      " #   Column     Non-Null Count  Dtype \n",
      "---  ------     --------------  ----- \n",
      " 0   Date       5729 non-null   object\n",
      " 1   Open       5729 non-null   object\n",
      " 2   High       5727 non-null   object\n",
      " 3   Low        5727 non-null   object\n",
      " 4   Close      5727 non-null   object\n",
      " 5   Adj Close  5727 non-null   object\n",
      " 6   Volume     5727 non-null   object\n",
      "dtypes: object(7)\n",
      "memory usage: 313.4+ KB\n"
     ]
    }
   ],
   "source": [
    "#Checking the data size\n",
    "df.info()"
   ]
  },
  {
   "cell_type": "code",
   "execution_count": 142,
   "metadata": {},
   "outputs": [
    {
     "data": {
      "text/html": [
       "<div>\n",
       "<style scoped>\n",
       "    .dataframe tbody tr th:only-of-type {\n",
       "        vertical-align: middle;\n",
       "    }\n",
       "\n",
       "    .dataframe tbody tr th {\n",
       "        vertical-align: top;\n",
       "    }\n",
       "\n",
       "    .dataframe thead th {\n",
       "        text-align: right;\n",
       "    }\n",
       "</style>\n",
       "<table border=\"1\" class=\"dataframe\">\n",
       "  <thead>\n",
       "    <tr style=\"text-align: right;\">\n",
       "      <th></th>\n",
       "      <th>Date</th>\n",
       "      <th>Open</th>\n",
       "      <th>High</th>\n",
       "      <th>Low</th>\n",
       "      <th>Close</th>\n",
       "      <th>Adj Close</th>\n",
       "      <th>Volume</th>\n",
       "    </tr>\n",
       "  </thead>\n",
       "  <tbody>\n",
       "    <tr>\n",
       "      <th>0</th>\n",
       "      <td>Feb 25, 2025</td>\n",
       "      <td>989.4</td>\n",
       "      <td>994.4</td>\n",
       "      <td>955</td>\n",
       "      <td>977.24</td>\n",
       "      <td>977.24</td>\n",
       "      <td>4,733,000</td>\n",
       "    </tr>\n",
       "    <tr>\n",
       "      <th>1</th>\n",
       "      <td>Feb 24, 2025</td>\n",
       "      <td>1,008.00</td>\n",
       "      <td>1,015.17</td>\n",
       "      <td>984.48</td>\n",
       "      <td>988.47</td>\n",
       "      <td>988.47</td>\n",
       "      <td>4,426,200</td>\n",
       "    </tr>\n",
       "    <tr>\n",
       "      <th>2</th>\n",
       "      <td>Feb 21, 2025</td>\n",
       "      <td>1,029.42</td>\n",
       "      <td>1,032.38</td>\n",
       "      <td>999.39</td>\n",
       "      <td>1,003.15</td>\n",
       "      <td>1,003.15</td>\n",
       "      <td>3,738,700</td>\n",
       "    </tr>\n",
       "    <tr>\n",
       "      <th>3</th>\n",
       "      <td>Feb 20, 2025</td>\n",
       "      <td>1,042.00</td>\n",
       "      <td>1,045.00</td>\n",
       "      <td>1,015.59</td>\n",
       "      <td>1,024.54</td>\n",
       "      <td>1,024.54</td>\n",
       "      <td>3,111,800</td>\n",
       "    </tr>\n",
       "    <tr>\n",
       "      <th>4</th>\n",
       "      <td>Feb 19, 2025</td>\n",
       "      <td>1,035.18</td>\n",
       "      <td>1,045.00</td>\n",
       "      <td>1,024.51</td>\n",
       "      <td>1,043.33</td>\n",
       "      <td>1,043.33</td>\n",
       "      <td>2,600,000</td>\n",
       "    </tr>\n",
       "  </tbody>\n",
       "</table>\n",
       "</div>"
      ],
      "text/plain": [
       "           Date     Open       High       Low     Close Adj Close     Volume\n",
       "0  Feb 25, 2025     989.4     994.4       955    977.24    977.24  4,733,000\n",
       "1  Feb 24, 2025  1,008.00  1,015.17    984.48    988.47    988.47  4,426,200\n",
       "2  Feb 21, 2025  1,029.42  1,032.38    999.39  1,003.15  1,003.15  3,738,700\n",
       "3  Feb 20, 2025  1,042.00  1,045.00  1,015.59  1,024.54  1,024.54  3,111,800\n",
       "4  Feb 19, 2025  1,035.18  1,045.00  1,024.51  1,043.33  1,043.33  2,600,000"
      ]
     },
     "execution_count": 142,
     "metadata": {},
     "output_type": "execute_result"
    }
   ],
   "source": [
    "#Displaying the first 5 rows of the dataset\n",
    "df.head()"
   ]
  },
  {
   "cell_type": "code",
   "execution_count": 143,
   "metadata": {},
   "outputs": [
    {
     "data": {
      "text/plain": [
       "(5729, 7)"
      ]
     },
     "execution_count": 143,
     "metadata": {},
     "output_type": "execute_result"
    }
   ],
   "source": [
    "#Checking the Shape of the dataset\n",
    "df.shape"
   ]
  },
  {
   "cell_type": "code",
   "execution_count": 144,
   "metadata": {},
   "outputs": [
    {
     "data": {
      "text/plain": [
       "Index(['Date', 'Open ', 'High', 'Low', 'Close', 'Adj Close', 'Volume'], dtype='object')"
      ]
     },
     "execution_count": 144,
     "metadata": {},
     "output_type": "execute_result"
    }
   ],
   "source": [
    "#Displaying the Number of Columns in the dataset\n",
    "df.columns"
   ]
  },
  {
   "cell_type": "code",
   "execution_count": 145,
   "metadata": {},
   "outputs": [
    {
     "data": {
      "text/plain": [
       "Date         0\n",
       "Open         0\n",
       "High         2\n",
       "Low          2\n",
       "Close        2\n",
       "Adj Close    2\n",
       "Volume       2\n",
       "dtype: int64"
      ]
     },
     "execution_count": 145,
     "metadata": {},
     "output_type": "execute_result"
    }
   ],
   "source": [
    "#Checking if there is a Missing Value in the Dataset\n",
    "df.isnull().sum()"
   ]
  },
  {
   "cell_type": "markdown",
   "metadata": {},
   "source": [
    "# Handle missing values and perform data cleaning. "
   ]
  },
  {
   "cell_type": "code",
   "execution_count": 146,
   "metadata": {},
   "outputs": [],
   "source": [
    "# Remove trailing spaces from column names\n",
    "df.columns = df.columns.str.strip()\n",
    "#Convert the relevant columns to numeric types\n",
    "columns_to_convert = ['Open', 'High', 'Low', 'Close', 'Adj Close', 'Volume']\n",
    "df[columns_to_convert] = df[columns_to_convert].replace({',': ''}, regex=True)\n",
    "df[columns_to_convert] = df[columns_to_convert].apply(pd.to_numeric, errors='coerce')\n",
    "df.fillna(method='ffill', inplace=True)"
   ]
  },
  {
   "cell_type": "code",
   "execution_count": 147,
   "metadata": {},
   "outputs": [],
   "source": [
    "#convert the 'Date' column to datetime if it's not already\n",
    "df['Date'] = pd.to_datetime(df['Date'], errors='coerce')"
   ]
  },
  {
   "cell_type": "code",
   "execution_count": 148,
   "metadata": {},
   "outputs": [
    {
     "name": "stdout",
     "output_type": "stream",
     "text": [
      "Date         datetime64[ns]\n",
      "Open                float64\n",
      "High                float64\n",
      "Low                 float64\n",
      "Close               float64\n",
      "Adj Close           float64\n",
      "Volume              float64\n",
      "dtype: object\n",
      "        Date     Open     High      Low    Close  Adj Close     Volume\n",
      "0 2025-02-25   989.40   994.40   955.00   977.24     977.24  4733000.0\n",
      "1 2025-02-24  1008.00  1015.17   984.48   988.47     988.47  4426200.0\n",
      "2 2025-02-21  1029.42  1032.38   999.39  1003.15    1003.15  3738700.0\n",
      "3 2025-02-20  1042.00  1045.00  1015.59  1024.54    1024.54  3111800.0\n",
      "4 2025-02-19  1035.18  1045.00  1024.51  1043.33    1043.33  2600000.0\n"
     ]
    }
   ],
   "source": [
    "#Verify the data types after conversion\n",
    "print(df.dtypes)\n",
    "print(df.head())"
   ]
  },
  {
   "cell_type": "code",
   "execution_count": 149,
   "metadata": {},
   "outputs": [
    {
     "data": {
      "text/plain": [
       "<bound method DataFrame.dropna of            Date     Open     High      Low    Close  Adj Close       Volume\n",
       "0    2025-02-25   989.40   994.40   955.00   977.24     977.24    4733000.0\n",
       "1    2025-02-24  1008.00  1015.17   984.48   988.47     988.47    4426200.0\n",
       "2    2025-02-21  1029.42  1032.38   999.39  1003.15    1003.15    3738700.0\n",
       "3    2025-02-20  1042.00  1045.00  1015.59  1024.54    1024.54    3111800.0\n",
       "4    2025-02-19  1035.18  1045.00  1024.51  1043.33    1043.33    2600000.0\n",
       "...         ...      ...      ...      ...      ...        ...          ...\n",
       "5724 2002-05-30     1.11     1.11     1.07     1.07       1.07   10154200.0\n",
       "5725 2002-05-29     1.16     1.16     1.09     1.10       1.10    6757800.0\n",
       "5726 2002-05-28     1.21     1.23     1.16     1.16       1.16    6609400.0\n",
       "5727 2002-05-24     1.21     1.23     1.20     1.21       1.21   11104800.0\n",
       "5728 2002-05-23     1.16     1.24     1.15     1.20       1.20  104790000.0\n",
       "\n",
       "[5729 rows x 7 columns]>"
      ]
     },
     "execution_count": 149,
     "metadata": {},
     "output_type": "execute_result"
    }
   ],
   "source": [
    "#Droping the missing value\n",
    "df.dropna"
   ]
  },
  {
   "cell_type": "code",
   "execution_count": 150,
   "metadata": {},
   "outputs": [
    {
     "data": {
      "text/plain": [
       "(5729, 7)"
      ]
     },
     "execution_count": 150,
     "metadata": {},
     "output_type": "execute_result"
    }
   ],
   "source": [
    "#Reinspecting the shape of the data frame after dropping the missing values\n",
    "df.shape"
   ]
  },
  {
   "cell_type": "code",
   "execution_count": 151,
   "metadata": {},
   "outputs": [
    {
     "data": {
      "text/plain": [
       "Date         0\n",
       "Open         0\n",
       "High         0\n",
       "Low          0\n",
       "Close        0\n",
       "Adj Close    0\n",
       "Volume       0\n",
       "dtype: int64"
      ]
     },
     "execution_count": 151,
     "metadata": {},
     "output_type": "execute_result"
    }
   ],
   "source": [
    "df.isnull().sum()"
   ]
  },
  {
   "cell_type": "code",
   "execution_count": 152,
   "metadata": {},
   "outputs": [
    {
     "data": {
      "image/png": "[encoded data removed]",
      "text/plain": [
       "<Figure size 800x600 with 1 Axes>"
      ]
     },
     "metadata": {},
     "output_type": "display_data"
    },
    {
     "data": {
      "image/png": "[encoded data removed]",
      "text/plain": [
       "<Figure size 800x600 with 1 Axes>"
      ]
     },
     "metadata": {},
     "output_type": "display_data"
    },
    {
     "data": {
      "image/png": "[encoded data removed]",
      "text/plain": [
       "<Figure size 800x600 with 1 Axes>"
      ]
     },
     "metadata": {},
     "output_type": "display_data"
    },
    {
     "data": {
      "image/png": "[encoded data removed]",
      "text/plain": [
       "<Figure size 800x600 with 1 Axes>"
      ]
     },
     "metadata": {},
     "output_type": "display_data"
    },
    {
     "data": {
      "image/png": "[encoded data removed]",
      "text/plain": [
       "<Figure size 800x600 with 1 Axes>"
      ]
     },
     "metadata": {},
     "output_type": "display_data"
    },
    {
     "data": {
      "image/png": "[encoded data removed]",
      "text/plain": [
       "<Figure size 800x600 with 1 Axes>"
      ]
     },
     "metadata": {},
     "output_type": "display_data"
    }
   ],
   "source": [
    "#Generates boxplots for column to visuliaze outliers\n",
    "def check_outliers_boxplot(df, columns):\n",
    "    for col in columns:\n",
    "        plt.figure(figsize=(8, 6))\n",
    "        sns.boxplot(x=df[col])\n",
    "        plt.title(f'Box Plot of {col}')\n",
    "        plt.show()\n",
    "check_outliers_boxplot(df,['Open','Close','Adj Close','Volume','High','Low'])       "
   ]
  },
  {
   "cell_type": "code",
   "execution_count": 153,
   "metadata": {},
   "outputs": [
    {
     "name": "stdout",
     "output_type": "stream",
     "text": [
      "Original DataFrame shape: (5729, 7)\n",
      "DataFrame shape after removing outliers: (5328, 7)\n"
     ]
    }
   ],
   "source": [
    "# Calculate Q1, Q3, and IQR\n",
    "Q1 = df['Volume'].quantile(0.25)\n",
    "Q3 = df['Volume'].quantile(0.75)\n",
    "IQR = Q3 - Q1\n",
    "# Define outlier boundaries\n",
    "lower_bound = Q1 - 1.5 * IQR\n",
    "upper_bound = Q3 + 1.5 * IQR\n",
    "# Filter outliers\n",
    "df_filtered = df[(df['Volume'] >= lower_bound) & (df['Volume'] <= upper_bound)]\n",
    "print(f\"Original DataFrame shape: {df.shape}\")\n",
    "\n",
    "print(f\"DataFrame shape after removing outliers: {df_filtered.shape}\")"
   ]
  },
  {
   "cell_type": "code",
   "execution_count": 154,
   "metadata": {},
   "outputs": [
    {
     "data": {
      "image/png": "[encoded data removed]",
      "text/plain": [
       "<Figure size 1000x600 with 1 Axes>"
      ]
     },
     "metadata": {},
     "output_type": "display_data"
    }
   ],
   "source": [
    "#Visualize Stock Price\n",
    "plt.figure(figsize=(10, 6))\n",
    "plt.plot(df['Date'], df['Close'], label='Closing Price')\n",
    "plt.title('Netflix Stock Price History')\n",
    "plt.xlabel('Date')\n",
    "plt.ylabel('Price (Ksh)')\n",
    "plt.legend()\n",
    "plt.xticks(rotation=45)\n",
    "plt.grid(True)\n",
    "plt.show()"
   ]
  },
  {
   "cell_type": "code",
   "execution_count": 155,
   "metadata": {},
   "outputs": [
    {
     "data": {
      "image/png": "[encoded data removed]",
      "text/plain": [
       "<Figure size 1000x600 with 1 Axes>"
      ]
     },
     "metadata": {},
     "output_type": "display_data"
    }
   ],
   "source": [
    "#Visualize Volume Analyis\n",
    "plt.figure(figsize=(10, 6))\n",
    "plt.bar(df['Date'], df['Volume'], color='blue', alpha=0.7)\n",
    "plt.title('Trading Volume Over Time')\n",
    "plt.xlabel('Date')\n",
    "plt.ylabel('Volume')\n",
    "plt.xticks(rotation=45)\n",
    "plt.grid(True)\n",
    "plt.show()"
   ]
  },
  {
   "cell_type": "markdown",
   "metadata": {},
   "source": [
    "# Performing feature scaling and normalization where necessary."
   ]
  },
  {
   "cell_type": "code",
   "execution_count": 156,
   "metadata": {},
   "outputs": [
    {
     "name": "stdout",
     "output_type": "stream",
     "text": [
      "LSTM Scaled Data Sample:\n",
      "        Date      Open      High       Low     Close  Adj Close    Volume\n",
      "0 2025-02-25  0.933372  0.934122  0.916751  0.923117   0.923117  0.013764\n",
      "1 2025-02-24  0.950926  0.953641  0.945061  0.933729   0.933729  0.012814\n",
      "2 2025-02-21  0.971141  0.969815  0.959379  0.947601   0.947601  0.010686\n",
      "3 2025-02-20  0.983013  0.981674  0.974936  0.967814   0.967814  0.008746\n",
      "4 2025-02-19  0.976577  0.981674  0.983502  0.985570   0.985570  0.007162\n",
      "\n",
      "XGBoost/ARIMA/RF Scaled Data Sample:\n",
      "        Date      Open      High       Low     Close  Adj Close    Volume\n",
      "0 2025-02-25  3.885995  3.848028  3.787370  3.828842   3.828842 -0.572581\n",
      "1 2025-02-24  3.973270  3.944228  3.927602  3.881537   3.881537 -0.589202\n",
      "2 2025-02-21  4.073778  4.023939  3.998526  3.950420   3.950420 -0.626448\n",
      "3 2025-02-20  4.132807  4.082390  4.075587  4.050788   4.050788 -0.660410\n",
      "4 2025-02-19  4.100806  4.082390  4.118018  4.138957   4.138957 -0.688137\n"
     ]
    }
   ],
   "source": [
    "#Scales and normalizes numeric columns in a DataFram\n",
    "cols_to_scale = ['Open', 'High', 'Low', 'Close', 'Adj Close', 'Volume']\n",
    "\n",
    "#mimax_scaler for LSTM\n",
    "minmax_scaler =MinMaxScaler(feature_range=(0,1))\n",
    "df_lstm = df.copy()\n",
    "df_lstm[cols_to_scale] = minmax_scaler.fit_transform(df_lstm[cols_to_scale])\n",
    "\n",
    "#Standard Scaling (for XGBoost, ARIMA, RF)\n",
    "std_scaler = StandardScaler()\n",
    "df_xgb = df.copy()\n",
    "df_xgb[cols_to_scale] = std_scaler.fit_transform(df_xgb[cols_to_scale])\n",
    "\n",
    "# Check the scaled data\n",
    "print(\"LSTM Scaled Data Sample:\")\n",
    "print(df_lstm.head())\n",
    "\n",
    "print(\"\\nXGBoost/ARIMA/RF Scaled Data Sample:\")\n",
    "print(df_xgb.head())\n",
    "\n",
    "\n",
    "\n",
    "\n"
   ]
  },
  {
   "cell_type": "markdown",
   "metadata": {},
   "source": [
    "# PART 2. Feature Engineering"
   ]
  },
  {
   "cell_type": "markdown",
   "metadata": {},
   "source": [
    "## Creating new relevant features from the existing dataset."
   ]
  },
  {
   "cell_type": "code",
   "execution_count": 157,
   "metadata": {},
   "outputs": [
    {
     "name": "stdout",
     "output_type": "stream",
     "text": [
      "Dataset after feature engineering: (5710, 23)\n"
     ]
    },
    {
     "data": {
      "text/html": [
       "<div>\n",
       "<style scoped>\n",
       "    .dataframe tbody tr th:only-of-type {\n",
       "        vertical-align: middle;\n",
       "    }\n",
       "\n",
       "    .dataframe tbody tr th {\n",
       "        vertical-align: top;\n",
       "    }\n",
       "\n",
       "    .dataframe thead th {\n",
       "        text-align: right;\n",
       "    }\n",
       "</style>\n",
       "<table border=\"1\" class=\"dataframe\">\n",
       "  <thead>\n",
       "    <tr style=\"text-align: right;\">\n",
       "      <th></th>\n",
       "      <th>Date</th>\n",
       "      <th>Open</th>\n",
       "      <th>High</th>\n",
       "      <th>Low</th>\n",
       "      <th>Close</th>\n",
       "      <th>Adj Close</th>\n",
       "      <th>Volume</th>\n",
       "      <th>Price_Range</th>\n",
       "      <th>Daily_Return</th>\n",
       "      <th>MA_5</th>\n",
       "      <th>...</th>\n",
       "      <th>Momentum_10</th>\n",
       "      <th>Volatility_5</th>\n",
       "      <th>Volatility_10</th>\n",
       "      <th>RSI</th>\n",
       "      <th>EMA_5</th>\n",
       "      <th>EMA_10</th>\n",
       "      <th>EMA_20</th>\n",
       "      <th>Bollinger_Mean</th>\n",
       "      <th>Bollinger_Upper</th>\n",
       "      <th>Bollinger_Lower</th>\n",
       "    </tr>\n",
       "  </thead>\n",
       "  <tbody>\n",
       "    <tr>\n",
       "      <th>5724</th>\n",
       "      <td>2002-05-30</td>\n",
       "      <td>1.11</td>\n",
       "      <td>1.11</td>\n",
       "      <td>1.07</td>\n",
       "      <td>1.07</td>\n",
       "      <td>1.07</td>\n",
       "      <td>10154200.0</td>\n",
       "      <td>0.04</td>\n",
       "      <td>-0.009259</td>\n",
       "      <td>1.110</td>\n",
       "      <td>...</td>\n",
       "      <td>-0.01</td>\n",
       "      <td>0.033912</td>\n",
       "      <td>0.036286</td>\n",
       "      <td>61.538462</td>\n",
       "      <td>1.099327</td>\n",
       "      <td>1.097949</td>\n",
       "      <td>1.081815</td>\n",
       "      <td>1.0485</td>\n",
       "      <td>1.225406</td>\n",
       "      <td>0.871594</td>\n",
       "    </tr>\n",
       "    <tr>\n",
       "      <th>5725</th>\n",
       "      <td>2002-05-29</td>\n",
       "      <td>1.16</td>\n",
       "      <td>1.16</td>\n",
       "      <td>1.09</td>\n",
       "      <td>1.10</td>\n",
       "      <td>1.10</td>\n",
       "      <td>6757800.0</td>\n",
       "      <td>0.07</td>\n",
       "      <td>0.028037</td>\n",
       "      <td>1.100</td>\n",
       "      <td>...</td>\n",
       "      <td>0.01</td>\n",
       "      <td>0.025495</td>\n",
       "      <td>0.035340</td>\n",
       "      <td>68.627451</td>\n",
       "      <td>1.099551</td>\n",
       "      <td>1.098322</td>\n",
       "      <td>1.083547</td>\n",
       "      <td>1.0540</td>\n",
       "      <td>1.230086</td>\n",
       "      <td>0.877914</td>\n",
       "    </tr>\n",
       "    <tr>\n",
       "      <th>5726</th>\n",
       "      <td>2002-05-28</td>\n",
       "      <td>1.21</td>\n",
       "      <td>1.23</td>\n",
       "      <td>1.16</td>\n",
       "      <td>1.16</td>\n",
       "      <td>1.16</td>\n",
       "      <td>6609400.0</td>\n",
       "      <td>0.07</td>\n",
       "      <td>0.054545</td>\n",
       "      <td>1.108</td>\n",
       "      <td>...</td>\n",
       "      <td>0.01</td>\n",
       "      <td>0.037013</td>\n",
       "      <td>0.036225</td>\n",
       "      <td>71.428571</td>\n",
       "      <td>1.119701</td>\n",
       "      <td>1.109536</td>\n",
       "      <td>1.090828</td>\n",
       "      <td>1.0640</td>\n",
       "      <td>1.240325</td>\n",
       "      <td>0.887675</td>\n",
       "    </tr>\n",
       "    <tr>\n",
       "      <th>5727</th>\n",
       "      <td>2002-05-24</td>\n",
       "      <td>1.21</td>\n",
       "      <td>1.23</td>\n",
       "      <td>1.20</td>\n",
       "      <td>1.21</td>\n",
       "      <td>1.21</td>\n",
       "      <td>11104800.0</td>\n",
       "      <td>0.03</td>\n",
       "      <td>0.043103</td>\n",
       "      <td>1.124</td>\n",
       "      <td>...</td>\n",
       "      <td>0.05</td>\n",
       "      <td>0.059414</td>\n",
       "      <td>0.043919</td>\n",
       "      <td>70.370370</td>\n",
       "      <td>1.149800</td>\n",
       "      <td>1.127802</td>\n",
       "      <td>1.102178</td>\n",
       "      <td>1.0755</td>\n",
       "      <td>1.258628</td>\n",
       "      <td>0.892372</td>\n",
       "    </tr>\n",
       "    <tr>\n",
       "      <th>5728</th>\n",
       "      <td>2002-05-23</td>\n",
       "      <td>1.16</td>\n",
       "      <td>1.24</td>\n",
       "      <td>1.15</td>\n",
       "      <td>1.20</td>\n",
       "      <td>1.20</td>\n",
       "      <td>104790000.0</td>\n",
       "      <td>0.09</td>\n",
       "      <td>-0.008264</td>\n",
       "      <td>1.148</td>\n",
       "      <td>...</td>\n",
       "      <td>0.08</td>\n",
       "      <td>0.061400</td>\n",
       "      <td>0.048534</td>\n",
       "      <td>63.043478</td>\n",
       "      <td>1.166534</td>\n",
       "      <td>1.140929</td>\n",
       "      <td>1.111494</td>\n",
       "      <td>1.0865</td>\n",
       "      <td>1.271890</td>\n",
       "      <td>0.901110</td>\n",
       "    </tr>\n",
       "  </tbody>\n",
       "</table>\n",
       "<p>5 rows × 23 columns</p>\n",
       "</div>"
      ],
      "text/plain": [
       "           Date  Open  High   Low  Close  Adj Close       Volume  Price_Range  \\\n",
       "5724 2002-05-30  1.11  1.11  1.07   1.07       1.07   10154200.0         0.04   \n",
       "5725 2002-05-29  1.16  1.16  1.09   1.10       1.10    6757800.0         0.07   \n",
       "5726 2002-05-28  1.21  1.23  1.16   1.16       1.16    6609400.0         0.07   \n",
       "5727 2002-05-24  1.21  1.23  1.20   1.21       1.21   11104800.0         0.03   \n",
       "5728 2002-05-23  1.16  1.24  1.15   1.20       1.20  104790000.0         0.09   \n",
       "\n",
       "      Daily_Return   MA_5  ...  Momentum_10  Volatility_5  Volatility_10  \\\n",
       "5724     -0.009259  1.110  ...        -0.01      0.033912       0.036286   \n",
       "5725      0.028037  1.100  ...         0.01      0.025495       0.035340   \n",
       "5726      0.054545  1.108  ...         0.01      0.037013       0.036225   \n",
       "5727      0.043103  1.124  ...         0.05      0.059414       0.043919   \n",
       "5728     -0.008264  1.148  ...         0.08      0.061400       0.048534   \n",
       "\n",
       "            RSI     EMA_5    EMA_10    EMA_20  Bollinger_Mean  \\\n",
       "5724  61.538462  1.099327  1.097949  1.081815          1.0485   \n",
       "5725  68.627451  1.099551  1.098322  1.083547          1.0540   \n",
       "5726  71.428571  1.119701  1.109536  1.090828          1.0640   \n",
       "5727  70.370370  1.149800  1.127802  1.102178          1.0755   \n",
       "5728  63.043478  1.166534  1.140929  1.111494          1.0865   \n",
       "\n",
       "      Bollinger_Upper  Bollinger_Lower  \n",
       "5724         1.225406         0.871594  \n",
       "5725         1.230086         0.877914  \n",
       "5726         1.240325         0.887675  \n",
       "5727         1.258628         0.892372  \n",
       "5728         1.271890         0.901110  \n",
       "\n",
       "[5 rows x 23 columns]"
      ]
     },
     "metadata": {},
     "output_type": "display_data"
    }
   ],
   "source": [
    "import pandas as pd\n",
    "\n",
    "# Feature Engineering\n",
    "def create_features(df):\n",
    "    \"\"\"\n",
    "    Create technical indicators and statistical features\n",
    "    \"\"\"\n",
    "    # Price movements\n",
    "    df['Price_Range'] = df['High'] - df['Low']\n",
    "    df['Daily_Return'] = df['Close'].pct_change()\n",
    "    \n",
    "    # Moving averages\n",
    "    df['MA_5'] = df['Close'].rolling(window=5).mean()\n",
    "    df['MA_10'] = df['Close'].rolling(window=10).mean()\n",
    "    df['MA_20'] = df['Close'].rolling(window=20).mean()\n",
    "    \n",
    "    # Momentum indicators\n",
    "    df['Momentum_5'] = df['Close'].diff(5)\n",
    "    df['Momentum_10'] = df['Close'].diff(10)\n",
    "    \n",
    "    # Volatility\n",
    "    df['Volatility_5'] = df['Close'].rolling(window=5).std()\n",
    "    df['Volatility_10'] = df['Close'].rolling(window=10).std()\n",
    "    \n",
    "    # Relative Strength Index (RSI)\n",
    "    delta = df['Close'].diff()\n",
    "    gain = (delta.where(delta > 0, 0)).rolling(window=14).mean()\n",
    "    loss = (-delta.where(delta < 0, 0)).rolling(window=14).mean()\n",
    "    rs = gain / loss\n",
    "    df['RSI'] = 100 - (100 / (1 + rs))\n",
    "    \n",
    "    # Exponential Moving Average (EMA) with different windows\n",
    "    df['EMA_5'] = df['Close'].ewm(span=5, adjust=False).mean()\n",
    "    df['EMA_10'] = df['Close'].ewm(span=10, adjust=False).mean()\n",
    "    df['EMA_20'] = df['Close'].ewm(span=20, adjust=False).mean()\n",
    "    \n",
    "    # Bollinger Bands (Upper and Lower Bands)\n",
    "    df['Bollinger_Mean'] = df['Close'].rolling(window=20).mean()\n",
    "    df['Bollinger_Upper'] = df['Bollinger_Mean'] + 2 * df['Close'].rolling(window=20).std()\n",
    "    df['Bollinger_Lower'] = df['Bollinger_Mean'] - 2 * df['Close'].rolling(window=20).std()\n",
    "\n",
    "    # Drop NA values from feature creation\n",
    "    df = df.dropna()\n",
    "    \n",
    "    return df\n",
    "\n",
    "# Sample data, assuming it's loaded as `data` DataFrame\n",
    "# Example:\n",
    "# data = pd.read_csv(\"your_dataset.csv\")\n",
    "\n",
    "# Apply feature engineering\n",
    "df = create_features(df)\n",
    "\n",
    "# Display the results\n",
    "print(f\"Dataset after feature engineering: {df.shape}\")\n",
    "display(df.tail())\n"
   ]
  },
  {
   "cell_type": "markdown",
   "metadata": {},
   "source": [
    "## Utilizing lagged variables for time series forecasting. "
   ]
  },
  {
   "cell_type": "code",
   "execution_count": 158,
   "metadata": {},
   "outputs": [
    {
     "name": "stdout",
     "output_type": "stream",
     "text": [
      "Dataset shape after adding lagged features: (5705, 48)\n",
      "         Date    Open    High     Low   Close  Adj Close     Volume  \\\n",
      "24 2025-01-21  863.53  916.40  854.75  869.68     869.68  9851400.0   \n",
      "25 2025-01-17  859.79  865.00  852.13  858.10     858.10  3617600.0   \n",
      "26 2025-01-16  860.96  868.98  842.02  842.37     842.37  4028500.0   \n",
      "27 2025-01-15  836.44  850.84  830.41  848.26     848.26  3181400.0   \n",
      "28 2025-01-14  843.20  844.89  823.52  828.40     828.40  3037700.0   \n",
      "\n",
      "    Price_Range  Daily_Return     MA_5  ...  Low_Lag_1  Low_Lag_2  Low_Lag_3  \\\n",
      "24        61.65     -0.088376  951.602  ...     950.76     953.90     967.68   \n",
      "25        12.87     -0.013315  928.844  ...     854.75     950.76     953.90   \n",
      "26        26.96     -0.018331  901.800  ...     852.13     854.75     950.76   \n",
      "27        20.43      0.006992  874.480  ...     842.02     852.13     854.75   \n",
      "28        21.37     -0.023413  849.362  ...     830.41     842.02     852.13   \n",
      "\n",
      "    Low_Lag_4  Low_Lag_5  Volume_Lag_1  Volume_Lag_2  Volume_Lag_3  \\\n",
      "24     960.26     957.30    14273200.0     7752100.0     4550400.0   \n",
      "25     967.68     960.26     9851400.0    14273200.0     7752100.0   \n",
      "26     953.90     967.68     3617600.0     9851400.0    14273200.0   \n",
      "27     950.76     953.90     4028500.0     3617600.0     9851400.0   \n",
      "28     854.75     950.76     3181400.0     4028500.0     3617600.0   \n",
      "\n",
      "    Volume_Lag_4  Volume_Lag_5  \n",
      "24     4634200.0     3434000.0  \n",
      "25     4550400.0     4634200.0  \n",
      "26     7752100.0     4550400.0  \n",
      "27    14273200.0     7752100.0  \n",
      "28     9851400.0    14273200.0  \n",
      "\n",
      "[5 rows x 48 columns]\n"
     ]
    }
   ],
   "source": [
    "def create_lagged_features(df, columns, n_lags=5):\n",
    "    \"\"\"\n",
    "    Create lagged features for the given columns.\n",
    "\n",
    "    Parameters:\n",
    "    df (pd.DataFrame): Input DataFrame.\n",
    "    columns (list): List of columns for which lagged features need to be created.\n",
    "    n_lags (int): Number of lag periods (e.g., 1, 5, 10).\n",
    "    \n",
    "    Returns:\n",
    "    pd.DataFrame: DataFrame with lagged features.\n",
    "    \"\"\"\n",
    "    for col in columns:\n",
    "        for lag in range(1, n_lags + 1):\n",
    "            df[f'{col}_Lag_{lag}'] = df[col].shift(lag)\n",
    "    \n",
    "    # Drop the first n_lags rows as they will have NaN values due to shifting\n",
    "    df = df.dropna()\n",
    "    \n",
    "    return df\n",
    "\n",
    "# Define columns for which you want to create lagged features\n",
    "columns_to_lag = ['Close', 'Open', 'High', 'Low', 'Volume']\n",
    "\n",
    "# Apply the function to create lagged features\n",
    "df_lagged = create_lagged_features(df, columns=columns_to_lag, n_lags=5)\n",
    "\n",
    "# Display the shape of the dataset after adding lagged variables\n",
    "print(f\"Dataset shape after adding lagged features: {df_lagged.shape}\")\n",
    "\n",
    "# Display the first few rows to inspect the new features\n",
    "print(df_lagged.head())\n"
   ]
  },
  {
   "cell_type": "markdown",
   "metadata": {},
   "source": [
    "## Implementing rolling statistics such as moving averages."
   ]
  },
  {
   "cell_type": "code",
   "execution_count": 159,
   "metadata": {},
   "outputs": [
    {
     "name": "stdout",
     "output_type": "stream",
     "text": [
      "Dataset shape after adding rolling statistics: (5691, 78)\n",
      "         Date    Open    High     Low   Close  Adj Close     Volume  \\\n",
      "38 2024-12-27  916.01  918.13  894.50  907.55     907.55  3226200.0   \n",
      "39 2024-12-26  928.40  930.49  915.30  924.14     924.14  2340300.0   \n",
      "40 2024-12-24  915.00  935.85  911.70  932.12     932.12  2320300.0   \n",
      "41 2024-12-23  913.42  915.00  899.10  911.45     911.45  2339400.0   \n",
      "42 2024-12-20  893.21  919.92  890.49  909.05     909.05  4530500.0   \n",
      "\n",
      "    Price_Range  Daily_Return     MA_5  ...  Low_MA_10  Low_STD_10  Low_MA_20  \\\n",
      "38        23.63      0.007907  893.416  ...    870.791   22.255881   885.0320   \n",
      "39        15.19      0.018280  902.034  ...    879.407   20.980967   882.9320   \n",
      "40        24.15      0.008635  911.112  ...    887.137   16.266829   880.5040   \n",
      "41        15.90     -0.022175  915.138  ...    889.747   15.834650   877.0750   \n",
      "42        29.43     -0.002633  916.862  ...    891.885   14.085379   873.9045   \n",
      "\n",
      "    Low_STD_20  Volume_MA_5   Volume_STD_5  Volume_MA_10  Volume_STD_10  \\\n",
      "38   48.056119    2516940.0  560634.018768     2886790.0  837036.217788   \n",
      "39   45.586071    2391540.0  501745.396591     2818370.0  852352.364603   \n",
      "40   42.434955    2393140.0  501442.203050     2570070.0  497788.297371   \n",
      "41   37.504230    2485840.0  417780.280770     2569220.0  498216.888959   \n",
      "42   33.088095    2951340.0  963761.673340     2757290.0  797245.498855   \n",
      "\n",
      "    Volume_MA_20  Volume_STD_20  \n",
      "38     4361420.0   3.014963e+06  \n",
      "39     4306735.0   3.042463e+06  \n",
      "40     4191040.0   3.073195e+06  \n",
      "41     4080490.0   3.099244e+06  \n",
      "42     3919410.0   2.979790e+06  \n",
      "\n",
      "[5 rows x 78 columns]\n"
     ]
    }
   ],
   "source": [
    "def create_rolling_statistics(df, columns, window_sizes=[5, 10, 20]):\n",
    "    \"\"\"\n",
    "    Create rolling statistics such as moving averages and rolling standard deviation.\n",
    "    \n",
    "    Parameters:\n",
    "    df (pd.DataFrame): Input DataFrame.\n",
    "    columns (list): List of columns for which rolling statistics need to be created.\n",
    "    window_sizes (list): List of window sizes for rolling calculations (e.g., 5, 10, 20).\n",
    "    \n",
    "    Returns:\n",
    "    pd.DataFrame: DataFrame with rolling statistics.\n",
    "    \"\"\"\n",
    "    for col in columns:\n",
    "        for window in window_sizes:\n",
    "            # Calculate moving averages\n",
    "            df[f'{col}_MA_{window}'] = df[col].rolling(window=window).mean()\n",
    "            # Calculate rolling standard deviation\n",
    "            df[f'{col}_STD_{window}'] = df[col].rolling(window=window).std()\n",
    "    \n",
    "    # Drop NaN values resulting from the rolling operation\n",
    "    df = df.dropna()\n",
    "    \n",
    "    return df\n",
    "\n",
    "# Define columns for which you want to create rolling statistics\n",
    "columns_to_rolling = ['Close', 'Open', 'High', 'Low', 'Volume']\n",
    "\n",
    "# Apply the function to create rolling statistics (moving averages and standard deviation)\n",
    "df_rolling = create_rolling_statistics(df, columns=columns_to_rolling, window_sizes=[5, 10, 20])\n",
    "\n",
    "# Display the shape of the dataset after adding rolling statistics\n",
    "print(f\"Dataset shape after adding rolling statistics: {df_rolling.shape}\")\n",
    "\n",
    "# Display the first few rows to inspect the new features\n",
    "print(df_rolling.head())\n"
   ]
  },
  {
   "cell_type": "markdown",
   "metadata": {},
   "source": [
    "# PART 3. Hybrid Modeling Approach"
   ]
  },
  {
   "cell_type": "markdown",
   "metadata": {},
   "source": [
    "## Develop an LSTM model to capture temporal dependencies in stock prices. "
   ]
  }
 ],
 "metadata": {
  "kernelspec": {
   "display_name": "Python 3",
   "language": "python",
   "name": "python3"
  },
  "language_info": {
   "codemirror_mode": {
    "name": "ipython",
    "version": 3
   },
   "file_extension": ".py",
   "mimetype": "text/x-python",
   "name": "python",
   "nbconvert_exporter": "python",
   "pygments_lexer": "ipython3",
   "version": "3.11.9"
  }
 },
 "nbformat": 4,
 "nbformat_minor": 2
}
